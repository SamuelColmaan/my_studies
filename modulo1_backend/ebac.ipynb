{
 "cells": [
  {
   "cell_type": "markdown",
   "metadata": {},
   "source": [
    "Exercicício 1\n"
   ]
  },
  {
   "cell_type": "code",
   "execution_count": 3,
   "metadata": {},
   "outputs": [
    {
     "name": "stdout",
     "output_type": "stream",
     "text": [
      "Hello, world!\n"
     ]
    }
   ],
   "source": [
    "print('Hello, world!')"
   ]
  },
  {
   "cell_type": "markdown",
   "metadata": {},
   "source": [
    "![Imagem da logo do python](https://static.wikia.nocookie.net/lpunb/images/b/b1/Logo_Python.png/revision/latest?cb=20130301171443)\n"
   ]
  },
  {
   "cell_type": "markdown",
   "metadata": {},
   "source": [
    "Exercicío 2\n"
   ]
  },
  {
   "cell_type": "code",
   "execution_count": 4,
   "metadata": {},
   "outputs": [
    {
     "name": "stdout",
     "output_type": "stream",
     "text": [
      "Valor Total (19/01): 961.56\n",
      "Quantidade de Vendas (20/01): 7\n",
      "Ticket Médio (23/01): 3075.62\n"
     ]
    }
   ],
   "source": [
    "# Dados conhecidos\n",
    "qtd_vendas_19 = 3\n",
    "ticket_medio_19 = 320.52\n",
    "\n",
    "valor_total_20 = 834.47\n",
    "ticket_medio_20 = 119.21\n",
    "\n",
    "qtd_vendas_23 = 5\n",
    "valor_total_23 = 15378.12\n",
    "\n",
    "# Calculando os valores desconhecidos\n",
    "valor_total_19 = qtd_vendas_19 * ticket_medio_19\n",
    "qtd_vendas_20 = valor_total_20 / ticket_medio_20\n",
    "ticket_medio_23 = valor_total_23 / qtd_vendas_23\n",
    "\n",
    "# Resultados\n",
    "print(f\"Valor Total (19/01): {valor_total_19:.2f}\")\n",
    "print(f\"Quantidade de Vendas (20/01): {qtd_vendas_20:.0f}\")\n",
    "print(f\"Ticket Médio (23/01): {ticket_medio_23:.2f}\")\n"
   ]
  },
  {
   "cell_type": "code",
   "execution_count": 18,
   "metadata": {},
   "outputs": [
    {
     "name": "stdout",
     "output_type": "stream",
     "text": [
      "Roda\n",
      "g-i-g-a-n-t-e\n",
      "moinho, roda gigante, Roda pião. roda mundo, roda\n"
     ]
    }
   ],
   "source": [
    "import random\n",
    "text = 'Roda mundo, roda gigante, roda moinho, roda pião.'\n",
    "\n",
    "print(text[0:4])\n",
    "\n",
    "texto2 = text[17:24]\n",
    "texto2_modificado = '-'.join(texto2)\n",
    "print(texto2_modificado)\n",
    "\n",
    "palavras = text.split()\n",
    "random.shuffle(palavras)\n",
    "text_randomizado = ' '.join(palavras)\n",
    "print(text_randomizado)\n"
   ]
  },
  {
   "cell_type": "code",
   "execution_count": 37,
   "metadata": {},
   "outputs": [
    {
     "name": "stdout",
     "output_type": "stream",
     "text": [
      "2,75\n",
      "em 6 anos\n",
      "2,75 em 6 anos\n"
     ]
    }
   ],
   "source": [
    "noticia = 'Selic vai a 2,75% e supera expectativas; ' + \\\n",
    " 'é a primeira alta em 6 anos.'\n",
    "\n",
    "captura_selic = noticia[12:16]\n",
    "print(captura_selic)\n",
    "captura_ano =  noticia[59:68]\n",
    "print(captura_ano)\n",
    "print(f'{captura_selic} {captura_ano}')"
   ]
  },
  {
   "cell_type": "code",
   "execution_count": 38,
   "metadata": {},
   "outputs": [
    {
     "name": "stdout",
     "output_type": "stream",
     "text": [
      "True\n"
     ]
    }
   ],
   "source": [
    "a = False\n",
    "b = True\n",
    "x = not a & b\n",
    "\n",
    "print(x)"
   ]
  }
 ],
 "metadata": {
  "kernelspec": {
   "display_name": "Python 3",
   "language": "python",
   "name": "python3"
  },
  "language_info": {
   "codemirror_mode": {
    "name": "ipython",
    "version": 3
   },
   "file_extension": ".py",
   "mimetype": "text/x-python",
   "name": "python",
   "nbconvert_exporter": "python",
   "pygments_lexer": "ipython3",
   "version": "3.10.0"
  }
 },
 "nbformat": 4,
 "nbformat_minor": 2
}
